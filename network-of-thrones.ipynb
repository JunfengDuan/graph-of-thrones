{
 "cells": [
  {
   "cell_type": "markdown",
   "metadata": {},
   "source": [
    "# Analyzing the Graph of Thrones with Neo4j"
   ]
  },
  {
   "cell_type": "code",
   "execution_count": 5,
   "metadata": {
    "collapsed": true
   },
   "outputs": [],
   "source": [
    "#! pip install py2neo\n",
    "from py2neo import Graph\n",
    "graph = Graph()"
   ]
  },
  {
   "cell_type": "code",
   "execution_count": 3,
   "metadata": {
    "collapsed": false
   },
   "outputs": [
    {
     "name": "stdout",
     "output_type": "stream",
     "text": [
      "Collecting py2neo\n",
      "  Downloading py2neo-3.1.0-py2.py3-none-any.whl (140kB)\n",
      "\u001b[K    100% |████████████████████████████████| 143kB 3.0MB/s \n",
      "\u001b[?25hInstalling collected packages: py2neo\n",
      "  Found existing installation: py2neo 2.0.8\n",
      "    Uninstalling py2neo-2.0.8:\n",
      "      Successfully uninstalled py2neo-2.0.8\n",
      "Successfully installed py2neo-3.1.0\n"
     ]
    }
   ],
   "source": [
    "!pip install py2neo --upgrade"
   ]
  },
  {
   "cell_type": "markdown",
   "metadata": {},
   "source": [
    "## Import into Neo4j\n"
   ]
  },
  {
   "cell_type": "code",
   "execution_count": 7,
   "metadata": {
    "collapsed": false
   },
   "outputs": [
    {
     "name": "stdout",
     "output_type": "stream",
     "text": [
      "('paths_written': 352)\n"
     ]
    }
   ],
   "source": [
    "graph.run(\"CREATE CONSTRAINT ON (c:Character) ASSERT c.name IS UNIQUE;\")\n",
    "\n",
    "for record in graph.run('''\n",
    "LOAD CSV WITH HEADERS FROM \"https://www.macalester.edu/~abeverid/data/stormofswords.csv\" AS row\n",
    "MERGE (src:Character {name: row.Source})\n",
    "MERGE (tgt:Character {name: row.Target})\n",
    "MERGE (src)-[r:INTERACTS]->(tgt)\n",
    "SET r.weight = toInt(row.Weight)\n",
    "RETURN count(*) AS paths_written\n",
    "'''):\n",
    "    print(record)"
   ]
  },
  {
   "cell_type": "code",
   "execution_count": 1,
   "metadata": {
    "collapsed": false
   },
   "outputs": [],
   "source": [
    "for r in graph.run('''\n",
    "MATCH p=(:Character)-[:INTERACTS]-(:Character)\n",
    "RETURN p\n",
    "'''):\n",
    "    print(r)"
   ]
  },
  {
   "cell_type": "markdown",
   "metadata": {},
   "source": [
    "![](http://www.lyonwj.com/public/img/got-graph-full.png)"
   ]
  },
  {
   "cell_type": "markdown",
   "metadata": {},
   "source": [
    "## Analyzing the network"
   ]
  },
  {
   "cell_type": "markdown",
   "metadata": {},
   "source": [
    "### Number of characters"
   ]
  },
  {
   "cell_type": "code",
   "execution_count": 9,
   "metadata": {
    "collapsed": false
   },
   "outputs": [
    {
     "name": "stdout",
     "output_type": "stream",
     "text": [
      "('num': 107)\n"
     ]
    }
   ],
   "source": [
    "for record in graph.run(\"MATCH (c:Character) RETURN count(c) AS num\"):\n",
    "    print(record)"
   ]
  },
  {
   "cell_type": "markdown",
   "metadata": {},
   "source": [
    "### Summary statistics"
   ]
  },
  {
   "cell_type": "code",
   "execution_count": 10,
   "metadata": {
    "collapsed": false
   },
   "outputs": [
    {
     "name": "stdout",
     "output_type": "stream",
     "text": [
      "('min': 1, 'max': 24, 'avg_characters': 4.957746478873239, 'stdev': 6.227672391875085)\n"
     ]
    }
   ],
   "source": [
    "for record in graph.run('''\n",
    "MATCH (c:Character)-[:INTERACTS]->()\n",
    "WITH c, count(*) AS num\n",
    "RETURN min(num) AS min, max(num) AS max, avg(num) AS avg_characters, stdev(num) AS stdev\n",
    "'''):\n",
    "    print(record)"
   ]
  },
  {
   "cell_type": "markdown",
   "metadata": {},
   "source": [
    "### Diameter of the network"
   ]
  },
  {
   "cell_type": "code",
   "execution_count": 54,
   "metadata": {
    "collapsed": false
   },
   "outputs": [
    {
     "name": "stdout",
     "output_type": "stream",
     "text": [
      "('len': 6, 'path': ['Illyrio', 'Belwas', 'Daenerys', 'Robert', 'Tywin', 'Oberyn', 'Amory'])\n",
      "('len': 6, 'path': ['Illyrio', 'Belwas', 'Daenerys', 'Robert', 'Sansa', 'Bran', 'Jojen'])\n",
      "('len': 6, 'path': ['Illyrio', 'Belwas', 'Daenerys', 'Robert', 'Stannis', 'Davos', 'Shireen'])\n",
      "('len': 6, 'path': ['Illyrio', 'Belwas', 'Daenerys', 'Robert', 'Sansa', 'Bran', 'Luwin'])\n"
     ]
    }
   ],
   "source": [
    "for r in graph.run('''\n",
    "// Find maximum diameter of network\n",
    "// maximum shortest path between two nodes\n",
    "MATCH (a:Character), (b:Character) WHERE id(a) > id(b)\n",
    "MATCH p=shortestPath((a)-[:INTERACTS*]-(b))\n",
    "RETURN length(p) AS len, extract(x IN nodes(p) | x.name) AS path\n",
    "ORDER BY len DESC LIMIT 4\n",
    "'''):\n",
    "    print(r)"
   ]
  },
  {
   "cell_type": "markdown",
   "metadata": {},
   "source": [
    "### Shortest path"
   ]
  },
  {
   "cell_type": "code",
   "execution_count": 55,
   "metadata": {
    "collapsed": false
   },
   "outputs": [
    {
     "name": "stdout",
     "output_type": "stream",
     "text": [
      "('p': (e95a2a2)-[:INTERACTS {weight:19}]->(ec0683e)-[:INTERACTS {weight:4}]->(b5ccf71)<-[:INTERACTS {weight:11}]-(b8220b2)-[:INTERACTS {weight:6}]->(d354c17))\n"
     ]
    }
   ],
   "source": [
    "for r in graph.run('''\n",
    "// Shortest path from Catelyn Stark to Khal Drogo\n",
    "MATCH (catelyn:Character {name: \"Catelyn\"}), (drogo:Character {name: \"Drogo\"})\n",
    "MATCH p=shortestPath((catelyn)-[INTERACTS*]-(drogo))\n",
    "RETURN p\n",
    "'''):\n",
    "    print(r)"
   ]
  },
  {
   "cell_type": "markdown",
   "metadata": {},
   "source": [
    "![](http://www.lyonwj.com/public/img/shortestpath-got.png)"
   ]
  },
  {
   "cell_type": "markdown",
   "metadata": {},
   "source": [
    "### All shortest paths"
   ]
  },
  {
   "cell_type": "code",
   "execution_count": 58,
   "metadata": {
    "collapsed": false
   },
   "outputs": [],
   "source": [
    "for r in graph.run('''\n",
    "// All shortest paths from Catelyn Stark to Khal Drogo\n",
    "MATCH (catelyn:Character {name: \"Catelyn\"}), (drogo:Character {name: \"Drogo\"})\n",
    "MATCH p=allShortestPaths((catelyn)-[INTERACTS*]-(drogo))\n",
    "RETURN p\n",
    "'''):\n",
    "    print(r)"
   ]
  },
  {
   "cell_type": "markdown",
   "metadata": {},
   "source": [
    "![](http://www.lyonwj.com/public/img/allshortestpaths-got.png)"
   ]
  },
  {
   "cell_type": "markdown",
   "metadata": {},
   "source": [
    "### Pivotal nodes"
   ]
  },
  {
   "cell_type": "code",
   "execution_count": 59,
   "metadata": {
    "collapsed": false
   },
   "outputs": [
    {
     "name": "stdout",
     "output_type": "stream",
     "text": [
      "('a.name': 'Aegon', 'b.name': 'Thoros', 'PivotalNode': 'Daenerys')\n",
      "('a.name': 'Aegon', 'b.name': 'Thoros', 'PivotalNode': 'Robert')\n",
      "('a.name': 'Drogo', 'b.name': 'Ramsay', 'PivotalNode': 'Robb')\n",
      "('a.name': 'Styr', 'b.name': 'Daario', 'PivotalNode': 'Daenerys')\n",
      "('a.name': 'Styr', 'b.name': 'Daario', 'PivotalNode': 'Jon')\n",
      "('a.name': 'Styr', 'b.name': 'Daario', 'PivotalNode': 'Robert')\n",
      "('a.name': 'Qhorin', 'b.name': 'Podrick', 'PivotalNode': 'Jon')\n",
      "('a.name': 'Qhorin', 'b.name': 'Podrick', 'PivotalNode': 'Sansa')\n",
      "('a.name': 'Orell', 'b.name': 'Theon', 'PivotalNode': 'Jon')\n",
      "('a.name': 'Illyrio', 'b.name': 'Bronn', 'PivotalNode': 'Belwas')\n"
     ]
    }
   ],
   "source": [
    "for r in graph.run('''\n",
    "// Find all pivotal nodes in network\n",
    "MATCH (a:Character), (b:Character)\n",
    "MATCH p=allShortestPaths((a)-[:INTERACTS*]-(b)) WITH collect(p) AS paths, a, b\n",
    "MATCH (c:Character) WHERE all(x IN paths WHERE c IN nodes(x)) AND NOT c IN [a,b]\n",
    "RETURN a.name, b.name, c.name AS PivotalNode SKIP 490 LIMIT 10\n",
    "'''):\n",
    "    print(r)"
   ]
  },
  {
   "cell_type": "code",
   "execution_count": 61,
   "metadata": {
    "collapsed": false
   },
   "outputs": [],
   "source": [
    "for r in graph.run('''\n",
    "MATCH (a:Character {name: \"Drogo\"}), (b:Character {name: \"Ramsay\"})\n",
    "MATCH p=allShortestPaths((a)-[:INTERACTS*]-(b))\n",
    "RETURN p\n",
    "'''):\n",
    "    print(r)"
   ]
  },
  {
   "cell_type": "markdown",
   "metadata": {},
   "source": [
    "![](http://www.lyonwj.com/public/img/pivotal-path.png)"
   ]
  },
  {
   "cell_type": "markdown",
   "metadata": {},
   "source": [
    "## Centrality measures"
   ]
  },
  {
   "cell_type": "markdown",
   "metadata": {},
   "source": [
    "### Degree centrality"
   ]
  },
  {
   "cell_type": "code",
   "execution_count": 64,
   "metadata": {
    "collapsed": false
   },
   "outputs": [
    {
     "name": "stdout",
     "output_type": "stream",
     "text": [
      "('character': 'Tyrion', 'degree': 36)\n",
      "('character': 'Jon', 'degree': 26)\n",
      "('character': 'Sansa', 'degree': 26)\n",
      "('character': 'Robb', 'degree': 25)\n",
      "('character': 'Jaime', 'degree': 24)\n",
      "('character': 'Tywin', 'degree': 22)\n",
      "('character': 'Cersei', 'degree': 20)\n",
      "('character': 'Arya', 'degree': 19)\n",
      "('character': 'Joffrey', 'degree': 18)\n",
      "('character': 'Robert', 'degree': 18)\n"
     ]
    }
   ],
   "source": [
    "for r in graph.run('''\n",
    "MATCH (c:Character)-[:INTERACTS]-()\n",
    "RETURN c.name AS character, count(*) AS degree ORDER BY degree DESC LIMIT 10\n",
    "'''):\n",
    "    print(r)"
   ]
  },
  {
   "cell_type": "markdown",
   "metadata": {},
   "source": [
    "### Weighted degree centrality"
   ]
  },
  {
   "cell_type": "code",
   "execution_count": 65,
   "metadata": {
    "collapsed": false
   },
   "outputs": [
    {
     "name": "stdout",
     "output_type": "stream",
     "text": [
      "('character': 'Tyrion', 'weightedDegree': 551)\n",
      "('character': 'Jon', 'weightedDegree': 442)\n",
      "('character': 'Sansa', 'weightedDegree': 383)\n",
      "('character': 'Jaime', 'weightedDegree': 372)\n",
      "('character': 'Bran', 'weightedDegree': 344)\n",
      "('character': 'Robb', 'weightedDegree': 342)\n",
      "('character': 'Samwell', 'weightedDegree': 282)\n",
      "('character': 'Arya', 'weightedDegree': 269)\n",
      "('character': 'Joffrey', 'weightedDegree': 255)\n",
      "('character': 'Daenerys', 'weightedDegree': 232)\n"
     ]
    }
   ],
   "source": [
    "for r in graph.run('''\n",
    "MATCH (c:Character)-[r:INTERACTS]-()\n",
    "RETURN c.name AS character, sum(r.weight) AS weightedDegree ORDER BY weightedDegree DESC LIMIT 10\n",
    "'''):\n",
    "    print(r)"
   ]
  },
  {
   "cell_type": "markdown",
   "metadata": {},
   "source": [
    "### Betweenness centrality"
   ]
  },
  {
   "cell_type": "code",
   "execution_count": 67,
   "metadata": {
    "collapsed": false
   },
   "outputs": [
    {
     "name": "stdout",
     "output_type": "stream",
     "text": [
      "('name': 'Jon', 'score': 1279.7533534055322)\n",
      "('name': 'Robert', 'score': 1165.6025171231624)\n",
      "('name': 'Tyrion', 'score': 1101.3849724234349)\n",
      "('name': 'Daenerys', 'score': 874.8372110508583)\n",
      "('name': 'Robb', 'score': 706.5572832464792)\n",
      "('name': 'Sansa', 'score': 705.1985623519137)\n",
      "('name': 'Stannis', 'score': 571.5247305125714)\n",
      "('name': 'Jaime', 'score': 556.1852522889822)\n",
      "('name': 'Arya', 'score': 443.01358430043337)\n",
      "('name': 'Tywin', 'score': 364.7212195528086)\n"
     ]
    }
   ],
   "source": [
    "for r in graph.run('''\n",
    "MATCH (c:Character)\n",
    "WITH collect(c) AS characters\n",
    "CALL apoc.algo.betweenness(['INTERACTS'], characters, 'BOTH') YIELD node, score\n",
    "SET node.betweenness = score\n",
    "RETURN node.name AS name, score ORDER BY score DESC LIMIT 10\n",
    "'''):\n",
    "    print(r)"
   ]
  },
  {
   "cell_type": "markdown",
   "metadata": {},
   "source": [
    "### Closeness centrality"
   ]
  },
  {
   "cell_type": "code",
   "execution_count": 69,
   "metadata": {
    "collapsed": false
   },
   "outputs": [
    {
     "name": "stdout",
     "output_type": "stream",
     "text": [
      "('name': 'Tyrion', 'score': 0.004830917874396135)\n",
      "('name': 'Sansa', 'score': 0.004807692307692308)\n",
      "('name': 'Robert', 'score': 0.0047169811320754715)\n",
      "('name': 'Robb', 'score': 0.004608294930875576)\n",
      "('name': 'Arya', 'score': 0.0045871559633027525)\n",
      "('name': 'Jaime', 'score': 0.004524886877828055)\n",
      "('name': 'Stannis', 'score': 0.004524886877828055)\n",
      "('name': 'Jon', 'score': 0.004524886877828055)\n",
      "('name': 'Tywin', 'score': 0.004424778761061947)\n",
      "('name': 'Eddard', 'score': 0.004347826086956522)\n"
     ]
    }
   ],
   "source": [
    "for r in graph.run('''\n",
    "MATCH (c:Character)\n",
    "WITH collect(c) AS characters\n",
    "CALL apoc.algo.closeness(['INTERACTS'], characters, 'BOTH') YIELD node, score\n",
    "RETURN node.name AS name, score ORDER BY score DESC LIMIT 10\n",
    "'''):\n",
    "    print(r)"
   ]
  },
  {
   "cell_type": "markdown",
   "metadata": {},
   "source": [
    "## Using python-igraph"
   ]
  },
  {
   "cell_type": "markdown",
   "metadata": {},
   "source": [
    "### Building an igraph instance from Neo4j"
   ]
  },
  {
   "cell_type": "code",
   "execution_count": 11,
   "metadata": {
    "collapsed": false
   },
   "outputs": [
    {
     "data": {
      "text/plain": [
       "<igraph.Graph at 0x10bbfd318>"
      ]
     },
     "execution_count": 11,
     "metadata": {},
     "output_type": "execute_result"
    }
   ],
   "source": [
    "#! pip install python-igraph\n",
    "from igraph import Graph as IGraph\n",
    "\n",
    "query = '''\n",
    "MATCH (c1:Character)-[r:INTERACTS]->(c2:Character)\n",
    "RETURN c1.name, c2.name, r.weight AS weight\n",
    "'''\n",
    "\n",
    "ig = IGraph.TupleList(graph.run(query), weights=True)\n",
    "\n",
    "ig"
   ]
  },
  {
   "cell_type": "markdown",
   "metadata": {},
   "source": [
    "### PageRank\n",
    "\n",
    "![](http://www.lyonwj.com/public/img/page-rank.png)\n",
    "\n"
   ]
  },
  {
   "cell_type": "code",
   "execution_count": 12,
   "metadata": {
    "collapsed": false
   },
   "outputs": [
    {
     "name": "stdout",
     "output_type": "stream",
     "text": [
      "[{'pg': 0.007328980991947573, 'name': 'Aemon'}, {'pg': 0.02161972592380347, 'name': 'Samwell'}, {'pg': 0.006512533024510501, 'name': 'Grenn'}, {'pg': 0.005477506014302076, 'name': 'Aerys'}, {'pg': 0.022292016521362853, 'name': 'Robert'}]\n"
     ]
    },
    {
     "data": {
      "text/plain": [
       "<py2neo.database.Cursor at 0x10b640780>"
      ]
     },
     "execution_count": 12,
     "metadata": {},
     "output_type": "execute_result"
    }
   ],
   "source": [
    "pg = ig.pagerank()\n",
    "pgvs = []\n",
    "for p in zip(ig.vs, pg):\n",
    "    pgvs.append({\"name\": p[0][\"name\"], \"pg\": p[1]})\n",
    "print(pgvs[:5])\n",
    "\n",
    "write_clusters_query = '''\n",
    "UNWIND {nodes} AS n\n",
    "MATCH (c:Character) WHERE c.name = n.name\n",
    "SET c.pagerank = n.pg\n",
    "'''\n",
    "\n",
    "graph.run(write_clusters_query, nodes=pgvs)\n"
   ]
  },
  {
   "cell_type": "code",
   "execution_count": 75,
   "metadata": {
    "collapsed": false
   },
   "outputs": [
    {
     "name": "stdout",
     "output_type": "stream",
     "text": [
      "('name': 'Tyrion', 'pagerank': 0.042884981999963316)\n",
      "('name': 'Jon', 'pagerank': 0.03582869669163558)\n",
      "('name': 'Robb', 'pagerank': 0.03017114665594764)\n",
      "('name': 'Sansa', 'pagerank': 0.030009716660108578)\n",
      "('name': 'Daenerys', 'pagerank': 0.02881425425830273)\n",
      "('name': 'Jaime', 'pagerank': 0.028727587587471206)\n",
      "('name': 'Tywin', 'pagerank': 0.02570016262642541)\n",
      "('name': 'Robert', 'pagerank': 0.022292016521362864)\n",
      "('name': 'Cersei', 'pagerank': 0.022287327589773507)\n",
      "('name': 'Arya', 'pagerank': 0.022050209663844467)\n"
     ]
    }
   ],
   "source": [
    "for r in graph.run('''\n",
    "MATCH (n:Character)\n",
    "RETURN n.name AS name, n.pagerank AS pagerank ORDER BY pagerank DESC LIMIT 10\n",
    "'''):\n",
    "    print(r)"
   ]
  },
  {
   "cell_type": "markdown",
   "metadata": {},
   "source": [
    "### Community detection\n",
    "\n",
    "![](http://www.lyonwj.com/public/img/community-1.png)"
   ]
  },
  {
   "cell_type": "code",
   "execution_count": 76,
   "metadata": {
    "collapsed": false
   },
   "outputs": [
    {
     "name": "stdout",
     "output_type": "stream",
     "text": [
      "[{'community': 0, 'name': 'Aemon'}, {'community': 0, 'name': 'Samwell'}, {'community': 0, 'name': 'Grenn'}, {'community': 1, 'name': 'Aerys'}, {'community': 1, 'name': 'Tywin'}]\n"
     ]
    },
    {
     "data": {
      "text/plain": [
       "<py2neo.database.Cursor at 0x10dc07048>"
      ]
     },
     "execution_count": 76,
     "metadata": {},
     "output_type": "execute_result"
    }
   ],
   "source": [
    "clusters = IGraph.community_walktrap(ig, weights=\"weight\").as_clustering()\n",
    "\n",
    "nodes = [{\"name\": node[\"name\"]} for node in ig.vs]\n",
    "for node in nodes:\n",
    "    idx = ig.vs.find(name=node[\"name\"]).index\n",
    "    node[\"community\"] = clusters.membership[idx]\n",
    "\n",
    "print(nodes[:5])\n",
    "\n",
    "write_clusters_query = '''\n",
    "UNWIND {nodes} AS n\n",
    "MATCH (c:Character) WHERE c.name = n.name\n",
    "SET c.community = toInt(n.community)\n",
    "'''\n",
    "\n",
    "graph.run(write_clusters_query, nodes=nodes)"
   ]
  },
  {
   "cell_type": "code",
   "execution_count": 77,
   "metadata": {
    "collapsed": false
   },
   "outputs": [
    {
     "name": "stdout",
     "output_type": "stream",
     "text": [
      "('cluster': 0, 'members': ['Aemon', 'Alliser', 'Craster', 'Eddison', 'Gilly', 'Janos', 'Jon', 'Mance', 'Rattleshirt', 'Samwell', 'Val', 'Ygritte', 'Grenn', 'Karl', 'Bowen', 'Dalla', 'Orell', 'Qhorin', 'Styr'])\n",
      "('cluster': 1, 'members': ['Aerys', 'Amory', 'Balon', 'Brienne', 'Bronn', 'Cersei', 'Gregor', 'Jaime', 'Joffrey', 'Jon Arryn', 'Kevan', 'Loras', 'Lysa', 'Meryn', 'Myrcella', 'Oberyn', 'Podrick', 'Renly', 'Robert', 'Robert Arryn', 'Sansa', 'Shae', 'Tommen', 'Tyrion', 'Tywin', 'Varys', 'Walton', 'Petyr', 'Elia', 'Ilyn', 'Pycelle', 'Qyburn', 'Margaery', 'Olenna', 'Marillion', 'Ellaria', 'Mace', 'Chataya', 'Doran'])\n",
      "('cluster': 2, 'members': ['Arya', 'Beric', 'Eddard', 'Gendry', 'Sandor', 'Anguy', 'Thoros'])\n",
      "('cluster': 3, 'members': ['Brynden', 'Catelyn', 'Edmure', 'Hoster', 'Lothar', 'Rickard', 'Robb', 'Roose', 'Walder', 'Jeyne', 'Roslin', 'Ramsay'])\n",
      "('cluster': 4, 'members': ['Bran', 'Hodor', 'Jojen', 'Luwin', 'Meera', 'Rickon', 'Nan', 'Theon'])\n",
      "('cluster': 5, 'members': ['Belwas', 'Daario', 'Daenerys', 'Irri', 'Jorah', 'Missandei', 'Rhaegar', 'Viserys', 'Barristan', 'Illyrio', 'Drogo', 'Aegon', 'Kraznys', 'Rakharo', 'Worm'])\n",
      "('cluster': 6, 'members': ['Davos', 'Melisandre', 'Shireen', 'Stannis', 'Cressen', 'Salladhor'])\n",
      "('cluster': 7, 'members': ['Lancel'])\n"
     ]
    }
   ],
   "source": [
    "for r in graph.run('''\n",
    "MATCH (c:Character)\n",
    "WITH c.community AS cluster, collect(c.name) AS  members\n",
    "RETURN cluster, members ORDER BY cluster ASC\n",
    "'''):\n",
    "    print(r)"
   ]
  },
  {
   "cell_type": "markdown",
   "metadata": {},
   "source": [
    "## Visualization"
   ]
  },
  {
   "cell_type": "markdown",
   "metadata": {},
   "source": [
    "![](http://www.lyonwj.com/public/img/graph-of-thrones.png)\n",
    "\n",
    "See [neovis.js](https://github.com/johnymontana/neovis.js)"
   ]
  }
 ],
 "metadata": {
  "kernelspec": {
   "display_name": "Python 3",
   "language": "python",
   "name": "python3"
  },
  "language_info": {
   "codemirror_mode": {
    "name": "ipython",
    "version": 3
   },
   "file_extension": ".py",
   "mimetype": "text/x-python",
   "name": "python",
   "nbconvert_exporter": "python",
   "pygments_lexer": "ipython3",
   "version": "3.5.0"
  }
 },
 "nbformat": 4,
 "nbformat_minor": 0
}
